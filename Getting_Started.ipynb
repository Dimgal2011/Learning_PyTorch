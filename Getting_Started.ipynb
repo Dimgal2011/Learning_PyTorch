{
  "nbformat": 4,
  "nbformat_minor": 0,
  "metadata": {
    "colab": {
      "name": "Getting_Started.ipynb",
      "version": "0.3.2",
      "provenance": [],
      "include_colab_link": true
    },
    "kernelspec": {
      "name": "python3",
      "display_name": "Python 3"
    }
  },
  "cells": [
    {
      "cell_type": "markdown",
      "metadata": {
        "id": "view-in-github",
        "colab_type": "text"
      },
      "source": [
        "<a href=\"https://colab.research.google.com/github/Dimgal2011/Learning_PyTorch/blob/master/Getting_Started.ipynb\" target=\"_parent\"><img src=\"https://colab.research.google.com/assets/colab-badge.svg\" alt=\"Open In Colab\"/></a>"
      ]
    },
    {
      "metadata": {
        "id": "GRXF6PUnGv0s",
        "colab_type": "text"
      },
      "cell_type": "markdown",
      "source": [
        "# Getting Started\n"
      ]
    },
    {
      "metadata": {
        "id": "rP2X9KkhSXlJ",
        "colab_type": "text"
      },
      "cell_type": "markdown",
      "source": [
        "Just a quick ex. with primitives from PyTorch"
      ]
    },
    {
      "metadata": {
        "id": "IU_jZ4JMG4bg",
        "colab_type": "text"
      },
      "cell_type": "markdown",
      "source": [
        "**Tensors**\n",
        "\n",
        "\n",
        "Tensors are similar to NumPy’s ndarrays, with the addition being that Tensors can also be used on a GPU to accelerate computing."
      ]
    },
    {
      "metadata": {
        "id": "e3FLN0L-GunS",
        "colab_type": "code",
        "colab": {}
      },
      "cell_type": "code",
      "source": [
        "from __future__ import print_function\n",
        "import torch"
      ],
      "execution_count": 0,
      "outputs": []
    },
    {
      "metadata": {
        "id": "aj-CZwu5HMqC",
        "colab_type": "text"
      },
      "cell_type": "markdown",
      "source": [
        "Let's make a new uniinitialized matrix:"
      ]
    },
    {
      "metadata": {
        "id": "KKUl6b1vHF7q",
        "colab_type": "code",
        "colab": {
          "base_uri": "https://localhost:8080/",
          "height": 66
        },
        "outputId": "8501e42d-a809-4ae3-f3eb-e590e24658df"
      },
      "cell_type": "code",
      "source": [
        "x = torch.empty(3, 3)\n",
        "print(x)"
      ],
      "execution_count": 3,
      "outputs": [
        {
          "output_type": "stream",
          "text": [
            "tensor([[1.0739e-35, 0.0000e+00, 0.0000e+00],\n",
            "        [0.0000e+00, 0.0000e+00, 0.0000e+00],\n",
            "        [0.0000e+00, 0.0000e+00, 0.0000e+00]])\n"
          ],
          "name": "stdout"
        }
      ]
    },
    {
      "metadata": {
        "id": "0Cdy_kPHHga6",
        "colab_type": "text"
      },
      "cell_type": "markdown",
      "source": [
        "Or a randomly initialized matrix:"
      ]
    },
    {
      "metadata": {
        "id": "FqEp-ZmNHZ0G",
        "colab_type": "code",
        "colab": {
          "base_uri": "https://localhost:8080/",
          "height": 66
        },
        "outputId": "919bb4fe-b414-45e1-ac35-4e98e64860f8"
      },
      "cell_type": "code",
      "source": [
        "x = torch.rand(3, 3)\n",
        "print(x)"
      ],
      "execution_count": 4,
      "outputs": [
        {
          "output_type": "stream",
          "text": [
            "tensor([[0.7666, 0.5888, 0.3533],\n",
            "        [0.6160, 0.0676, 0.5289],\n",
            "        [0.3679, 0.0607, 0.8977]])\n"
          ],
          "name": "stdout"
        }
      ]
    },
    {
      "metadata": {
        "id": "RWG-07WpHywB",
        "colab_type": "text"
      },
      "cell_type": "markdown",
      "source": [
        "Maybe the one that consists of zeros"
      ]
    },
    {
      "metadata": {
        "id": "MRpdROpYHs01",
        "colab_type": "code",
        "colab": {
          "base_uri": "https://localhost:8080/",
          "height": 66
        },
        "outputId": "43a09624-e6a6-4e65-da18-4a53ddfb1a6e"
      },
      "cell_type": "code",
      "source": [
        "x = torch.zeros(3, 3, dtype=torch.int)\n",
        "print(x)"
      ],
      "execution_count": 7,
      "outputs": [
        {
          "output_type": "stream",
          "text": [
            "tensor([[0, 0, 0],\n",
            "        [0, 0, 0],\n",
            "        [0, 0, 0]], dtype=torch.int32)\n"
          ],
          "name": "stdout"
        }
      ]
    },
    {
      "metadata": {
        "id": "g_j38WbZJMRP",
        "colab_type": "text"
      },
      "cell_type": "markdown",
      "source": [
        "Tensor from given data:"
      ]
    },
    {
      "metadata": {
        "id": "_8RLX0sSIL8U",
        "colab_type": "code",
        "colab": {
          "base_uri": "https://localhost:8080/",
          "height": 33
        },
        "outputId": "aee52803-aec1-4e89-8739-bd17e5387b7a"
      },
      "cell_type": "code",
      "source": [
        "x = torch.tensor([1.2, 5])\n",
        "print(x)"
      ],
      "execution_count": 8,
      "outputs": [
        {
          "output_type": "stream",
          "text": [
            "tensor([1.2000, 5.0000])\n"
          ],
          "name": "stdout"
        }
      ]
    },
    {
      "metadata": {
        "id": "ctELEzxOJfZ6",
        "colab_type": "text"
      },
      "cell_type": "markdown",
      "source": [
        "Tensor's description:"
      ]
    },
    {
      "metadata": {
        "id": "jBhtyxrIJVte",
        "colab_type": "code",
        "colab": {
          "base_uri": "https://localhost:8080/",
          "height": 83
        },
        "outputId": "913a447f-9f2c-4fad-bf24-8c466855ab85"
      },
      "cell_type": "code",
      "source": [
        "x = torch.tensor([3, 3, 3])\n",
        "print(x)\n",
        "print(x.size())\n",
        "print(x.dim())\n",
        "print(x.type())\n"
      ],
      "execution_count": 18,
      "outputs": [
        {
          "output_type": "stream",
          "text": [
            "tensor([3, 3, 3])\n",
            "torch.Size([3])\n",
            "1\n",
            "torch.LongTensor\n"
          ],
          "name": "stdout"
        }
      ]
    },
    {
      "metadata": {
        "id": "Xfj_cddALEjZ",
        "colab_type": "text"
      },
      "cell_type": "markdown",
      "source": [
        "**Operations**"
      ]
    },
    {
      "metadata": {
        "id": "a1TtgdIlLERq",
        "colab_type": "code",
        "colab": {
          "base_uri": "https://localhost:8080/",
          "height": 300
        },
        "outputId": "28f6c23c-b675-4562-cc2e-8bc6efe3815f"
      },
      "cell_type": "code",
      "source": [
        "x = x.new_ones(5, 3, dtype=torch.float)\n",
        "print(x)\n",
        "y = torch.rand(5, 3)\n",
        "print(y)\n",
        "print('\\nx + y:\\n', x + y)"
      ],
      "execution_count": 25,
      "outputs": [
        {
          "output_type": "stream",
          "text": [
            "tensor([[1., 1., 1.],\n",
            "        [1., 1., 1.],\n",
            "        [1., 1., 1.],\n",
            "        [1., 1., 1.],\n",
            "        [1., 1., 1.]])\n",
            "tensor([[0.7193, 0.2910, 0.3347],\n",
            "        [0.9962, 0.2266, 0.5777],\n",
            "        [0.7173, 0.2822, 0.7853],\n",
            "        [0.1906, 0.1557, 0.7613],\n",
            "        [0.0577, 0.8090, 0.9763]])\n",
            "\n",
            "x + y:\n",
            " tensor([[1.7193, 1.2910, 1.3347],\n",
            "        [1.9962, 1.2266, 1.5777],\n",
            "        [1.7173, 1.2822, 1.7853],\n",
            "        [1.1906, 1.1557, 1.7613],\n",
            "        [1.0577, 1.8090, 1.9763]])\n"
          ],
          "name": "stdout"
        }
      ]
    },
    {
      "metadata": {
        "id": "G7hVymtEKP8l",
        "colab_type": "code",
        "colab": {
          "base_uri": "https://localhost:8080/",
          "height": 100
        },
        "outputId": "5dff2daa-8e50-439a-abd9-3ae4e9632aab"
      },
      "cell_type": "code",
      "source": [
        "print(torch.add(x, y))    #similar to '+'"
      ],
      "execution_count": 26,
      "outputs": [
        {
          "output_type": "stream",
          "text": [
            "tensor([[1.7193, 1.2910, 1.3347],\n",
            "        [1.9962, 1.2266, 1.5777],\n",
            "        [1.7173, 1.2822, 1.7853],\n",
            "        [1.1906, 1.1557, 1.7613],\n",
            "        [1.0577, 1.8090, 1.9763]])\n"
          ],
          "name": "stdout"
        }
      ]
    },
    {
      "metadata": {
        "id": "sF84aPF7NdXB",
        "colab_type": "code",
        "colab": {
          "base_uri": "https://localhost:8080/",
          "height": 100
        },
        "outputId": "128dc4f3-1933-4c64-b58b-b434ca41e598"
      },
      "cell_type": "code",
      "source": [
        "res = torch.empty(5, 3)\n",
        "torch.add(x, y, out=res)\n",
        "print(res)"
      ],
      "execution_count": 27,
      "outputs": [
        {
          "output_type": "stream",
          "text": [
            "tensor([[1.7193, 1.2910, 1.3347],\n",
            "        [1.9962, 1.2266, 1.5777],\n",
            "        [1.7173, 1.2822, 1.7853],\n",
            "        [1.1906, 1.1557, 1.7613],\n",
            "        [1.0577, 1.8090, 1.9763]])\n"
          ],
          "name": "stdout"
        }
      ]
    },
    {
      "metadata": {
        "id": "bJD2uaqNNzUc",
        "colab_type": "code",
        "colab": {
          "base_uri": "https://localhost:8080/",
          "height": 100
        },
        "outputId": "3d01eaca-54a5-4726-ac75-05d74be333d9"
      },
      "cell_type": "code",
      "source": [
        "y.add_(x)   #addition in-place\n",
        "print(y)"
      ],
      "execution_count": 28,
      "outputs": [
        {
          "output_type": "stream",
          "text": [
            "tensor([[1.7193, 1.2910, 1.3347],\n",
            "        [1.9962, 1.2266, 1.5777],\n",
            "        [1.7173, 1.2822, 1.7853],\n",
            "        [1.1906, 1.1557, 1.7613],\n",
            "        [1.0577, 1.8090, 1.9763]])\n"
          ],
          "name": "stdout"
        }
      ]
    },
    {
      "metadata": {
        "id": "me_JMieHN7l2",
        "colab_type": "code",
        "colab": {
          "base_uri": "https://localhost:8080/",
          "height": 100
        },
        "outputId": "bebb4265-49b0-40ac-cd88-c57765bfed5a"
      },
      "cell_type": "code",
      "source": [
        "z = torch.empty(5, 3)\n",
        "z.copy_(y)"
      ],
      "execution_count": 30,
      "outputs": [
        {
          "output_type": "execute_result",
          "data": {
            "text/plain": [
              "tensor([[1.7193, 1.2910, 1.3347],\n",
              "        [1.9962, 1.2266, 1.5777],\n",
              "        [1.7173, 1.2822, 1.7853],\n",
              "        [1.1906, 1.1557, 1.7613],\n",
              "        [1.0577, 1.8090, 1.9763]])"
            ]
          },
          "metadata": {
            "tags": []
          },
          "execution_count": 30
        }
      ]
    },
    {
      "metadata": {
        "id": "-87q5WgvOL_d",
        "colab_type": "code",
        "colab": {
          "base_uri": "https://localhost:8080/",
          "height": 33
        },
        "outputId": "0fbe4762-18b0-4909-9886-1bf46613d347"
      },
      "cell_type": "code",
      "source": [
        "print(y[:,2])"
      ],
      "execution_count": 34,
      "outputs": [
        {
          "output_type": "stream",
          "text": [
            "tensor([1.3347, 1.5777, 1.7853, 1.7613, 1.9763])\n"
          ],
          "name": "stdout"
        }
      ]
    },
    {
      "metadata": {
        "id": "CvAia1W8Ov2f",
        "colab_type": "text"
      },
      "cell_type": "markdown",
      "source": [
        " **Resizing**"
      ]
    },
    {
      "metadata": {
        "id": "xeCZa3ycOcPu",
        "colab_type": "code",
        "colab": {
          "base_uri": "https://localhost:8080/",
          "height": 166
        },
        "outputId": "dce1dd07-a9c7-4bdc-96f2-2dfc3b757f7e"
      },
      "cell_type": "code",
      "source": [
        "x = torch.rand(4, 4)\n",
        "y = x.view(16)\n",
        "z = x.view(2, 8)\n",
        "print(x.size(), y.size(), z.size())\n",
        "print(x)\n",
        "print(y)\n",
        "print(z)"
      ],
      "execution_count": 40,
      "outputs": [
        {
          "output_type": "stream",
          "text": [
            "torch.Size([4, 4]) torch.Size([16]) torch.Size([2, 8])\n",
            "tensor([[0.8628, 0.8412, 0.7110, 0.7521],\n",
            "        [0.1154, 0.1972, 0.8325, 0.2444],\n",
            "        [0.1260, 0.7007, 0.7388, 0.1912],\n",
            "        [0.6737, 0.4884, 0.7450, 0.3091]])\n",
            "tensor([0.8628, 0.8412, 0.7110, 0.7521, 0.1154, 0.1972, 0.8325, 0.2444, 0.1260,\n",
            "        0.7007, 0.7388, 0.1912, 0.6737, 0.4884, 0.7450, 0.3091])\n",
            "tensor([[0.8628, 0.8412, 0.7110, 0.7521, 0.1154, 0.1972, 0.8325, 0.2444],\n",
            "        [0.1260, 0.7007, 0.7388, 0.1912, 0.6737, 0.4884, 0.7450, 0.3091]])\n"
          ],
          "name": "stdout"
        }
      ]
    },
    {
      "metadata": {
        "id": "EQJDgRE-PsRz",
        "colab_type": "text"
      },
      "cell_type": "markdown",
      "source": [
        "**NumPy**\n",
        "\n",
        "Converting a Torch Tensor to a NumPy array and vice versa is a breeze.\n",
        "\n",
        "The Torch Tensor and NumPy array will share their underlying memory locations, and changing one will change the other."
      ]
    },
    {
      "metadata": {
        "id": "AZSdmXHcO5T7",
        "colab_type": "code",
        "colab": {
          "base_uri": "https://localhost:8080/",
          "height": 33
        },
        "outputId": "28e9a521-58f8-4558-8760-cc94b6da4734"
      },
      "cell_type": "code",
      "source": [
        "x = torch.ones(5)\n",
        "print(x)"
      ],
      "execution_count": 42,
      "outputs": [
        {
          "output_type": "stream",
          "text": [
            "tensor([1., 1., 1., 1., 1.])\n"
          ],
          "name": "stdout"
        }
      ]
    },
    {
      "metadata": {
        "id": "AVd6aZWiP8_-",
        "colab_type": "code",
        "colab": {
          "base_uri": "https://localhost:8080/",
          "height": 33
        },
        "outputId": "cd10d03e-25db-4c31-bae4-3e10d2fea739"
      },
      "cell_type": "code",
      "source": [
        "y = x.numpy()\n",
        "print(y)"
      ],
      "execution_count": 44,
      "outputs": [
        {
          "output_type": "stream",
          "text": [
            "[1. 1. 1. 1. 1.]\n"
          ],
          "name": "stdout"
        }
      ]
    },
    {
      "metadata": {
        "id": "n2MqLE1_QBi7",
        "colab_type": "code",
        "colab": {
          "base_uri": "https://localhost:8080/",
          "height": 33
        },
        "outputId": "40b9f8ea-4c87-48d7-91e8-ee1168b061a8"
      },
      "cell_type": "code",
      "source": [
        "x.add_(6)     # let's see how np array changend the value\n",
        "print(x)"
      ],
      "execution_count": 45,
      "outputs": [
        {
          "output_type": "stream",
          "text": [
            "tensor([7., 7., 7., 7., 7.])\n"
          ],
          "name": "stdout"
        }
      ]
    },
    {
      "metadata": {
        "id": "Plx92U4QQTDy",
        "colab_type": "code",
        "colab": {
          "base_uri": "https://localhost:8080/",
          "height": 33
        },
        "outputId": "1dd41391-917a-40c5-a5ce-b68e256bc4c6"
      },
      "cell_type": "code",
      "source": [
        "print(y)"
      ],
      "execution_count": 46,
      "outputs": [
        {
          "output_type": "stream",
          "text": [
            "[7. 7. 7. 7. 7.]\n"
          ],
          "name": "stdout"
        }
      ]
    },
    {
      "metadata": {
        "id": "GrEd_PseQctf",
        "colab_type": "text"
      },
      "cell_type": "markdown",
      "source": [
        "**Converting NumPy Array to Torch Tensor**"
      ]
    },
    {
      "metadata": {
        "id": "PU53AwfuQVjc",
        "colab_type": "code",
        "colab": {
          "base_uri": "https://localhost:8080/",
          "height": 50
        },
        "outputId": "2d1ea08c-f752-4ac6-e078-3f2ec013c379"
      },
      "cell_type": "code",
      "source": [
        "import numpy as np\n",
        "a = np.ones(5)\n",
        "b = torch.from_numpy(a)\n",
        "np.add(a, 6, out=a)\n",
        "print(a)\n",
        "print(b)"
      ],
      "execution_count": 47,
      "outputs": [
        {
          "output_type": "stream",
          "text": [
            "[7. 7. 7. 7. 7.]\n",
            "tensor([7., 7., 7., 7., 7.], dtype=torch.float64)\n"
          ],
          "name": "stdout"
        }
      ]
    },
    {
      "metadata": {
        "id": "8J9KG-fiQ6gG",
        "colab_type": "text"
      },
      "cell_type": "markdown",
      "source": [
        "All the Tensors on the CPU except a CharTensor support converting to NumPy and back."
      ]
    },
    {
      "metadata": {
        "id": "6R2JVvwmQ1J7",
        "colab_type": "code",
        "colab": {}
      },
      "cell_type": "code",
      "source": [
        "if torch.cuda.is_available():\n",
        "    device = torch.device(\"cuda\")          # a CUDA device object\n",
        "    y = torch.ones_like(x, device=device)  # directly create a tensor on GPU\n",
        "    x = x.to(device)                       # or just use strings ``.to(\"cuda\")``\n",
        "    z = x + y\n",
        "    print(z)\n",
        "    print(z.to(\"cpu\", torch.double))       # ``.to`` can also change dtype together!"
      ],
      "execution_count": 0,
      "outputs": []
    },
    {
      "metadata": {
        "id": "Zt4F18IoR29k",
        "colab_type": "text"
      },
      "cell_type": "markdown",
      "source": [
        "I've no CUDA : _ ["
      ]
    },
    {
      "metadata": {
        "id": "JKzTT4O8SB4U",
        "colab_type": "code",
        "colab": {}
      },
      "cell_type": "code",
      "source": [
        ""
      ],
      "execution_count": 0,
      "outputs": []
    },
    {
      "metadata": {
        "id": "R1MxN4C-R0lh",
        "colab_type": "code",
        "colab": {}
      },
      "cell_type": "code",
      "source": [
        ""
      ],
      "execution_count": 0,
      "outputs": []
    }
  ]
}